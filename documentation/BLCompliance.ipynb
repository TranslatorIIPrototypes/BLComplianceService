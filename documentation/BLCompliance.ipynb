{
 "cells": [
  {
   "cell_type": "markdown",
   "metadata": {},
   "source": [
    "# BioLink Compliance Service\n",
    "\n",
    "In the first phase of Translator, the knowledge graph standards working group created a standard schema for data transfer between reasoners, and a standard for representing graphs called the BioLink model. The knowledge graph portion of the reasoner schema defines the graph required to answer a query. For practical reasons, this schema is a more liberal superset of the BioLink Model schema.\n",
    "\n",
    "The [BioLink compliance service](https://monarch-sandbox.cgrb.oregonstate.edu/docs) validates the knowledge graph portion of a ReasonerAPI message. Users can submit either a message object, or the knowledge graph portion of the Reasoner API standard."
   ]
  },
  {
   "cell_type": "markdown",
   "metadata": {},
   "source": [
    "### Basic Use\n",
    "\n",
    "This tutorial assumes that you have the ability to generate Reasoner Standard compliant JSON.  [Another validator](http://transltr.io:7071/apidocs/) exists to validate against this schema.  This JSON can be posted to the BioLink compliance service.  The service will return 1 of 4 error codes:\n",
    "\n",
    "422 - The JSON could not be parsed.  This occurs if the JSON object is not a valid Reasoner API response object  \n",
    "418 - The JSON is not BioLink model compliant  \n",
    "400 - The posted data is invalid JSON  \n",
    "200 - The JSON was successfully validated  "
   ]
  },
  {
   "cell_type": "code",
   "execution_count": 42,
   "metadata": {},
   "outputs": [
    {
     "name": "stdout",
     "output_type": "stream",
     "text": [
      "{\n",
      " \"edges\": [\n",
      "  {\n",
      "   \"id\": \"553903\",\n",
      "   \"source_id\": \"https://omim.org/entry/603903\",\n",
      "   \"target_id\": \"https://www.uniprot.org/uniprot/P00738\",\n",
      "   \"relation_label\": [\n",
      "    \"affects\"\n",
      "   ],\n",
      "   \"additionalProp1\": {}\n",
      "  }\n",
      " ],\n",
      " \"nodes\": [\n",
      "  {\n",
      "   \"id\": \"OMIM:603903\",\n",
      "   \"name\": \"Haptoglobin\",\n",
      "   \"type\": \"Disease\",\n",
      "   \"additionalProp1\": {}\n",
      "  }\n",
      " ],\n",
      " \"additionalProp1\": {}\n",
      "}\n"
     ]
    }
   ],
   "source": [
    "import requests\n",
    "import json\n",
    "import os\n",
    "\n",
    "compliance_url = 'https://monarch-sandbox.cgrb.oregonstate.edu/validate/knowledge_graph'\n",
    "\n",
    "# First let's look at the JSON object we are sending the service\n",
    "input_fh = open(os.path.abspath('') + '/resources/invalid.json', 'r')\n",
    "input_data = json.load(input_fh)\n",
    "print(json.dumps(input_data, indent=1))"
   ]
  },
  {
   "cell_type": "code",
   "execution_count": 43,
   "metadata": {},
   "outputs": [
    {
     "name": "stdout",
     "output_type": "stream",
     "text": [
      "[\n",
      " {\n",
      "  \"entity\": \"https://www.uniprot.org/uniprot/P00738\",\n",
      "  \"error_type\": \"MISSING_NODE_PROPERTY\",\n",
      "  \"message\": \"Required node property 'category' missing\",\n",
      "  \"message_level\": \"ERROR\"\n",
      " },\n",
      " {\n",
      "  \"entity\": \"https://www.uniprot.org/uniprot/P00738\",\n",
      "  \"error_type\": \"MISSING_NODE_PROPERTY\",\n",
      "  \"message\": \"Required node property 'id' missing\",\n",
      "  \"message_level\": \"ERROR\"\n",
      " },\n",
      " {\n",
      "  \"entity\": \"https://www.uniprot.org/uniprot/P00738\",\n",
      "  \"error_type\": \"MISSING_NODE_PROPERTY\",\n",
      "  \"message\": \"Required node property 'name' missing\",\n",
      "  \"message_level\": \"ERROR\"\n",
      " },\n",
      " {\n",
      "  \"entity\": \"https://www.uniprot.org/uniprot/P00738\",\n",
      "  \"error_type\": \"INVALID_CATEGORY\",\n",
      "  \"message\": \"Node does not have a 'category' property\",\n",
      "  \"message_level\": \"ERROR\"\n",
      " },\n",
      " {\n",
      "  \"entity\": \"https://omim.org/entry/603903-https://www.uniprot.org/uniprot/P00738\",\n",
      "  \"error_type\": \"MISSING_EDGE_PROPERTY\",\n",
      "  \"message\": \"Required edge property 'relation' missing\",\n",
      "  \"message_level\": \"ERROR\"\n",
      " },\n",
      " {\n",
      "  \"entity\": \"https://omim.org/entry/603903-https://www.uniprot.org/uniprot/P00738\",\n",
      "  \"error_type\": \"INVALID_EDGE_PROPERTY_VALUE\",\n",
      "  \"message\": \"Edge property 'subject' has a value 'https://omim.org/entry/603903' which is not a proper CURIE\",\n",
      "  \"message_level\": \"ERROR\"\n",
      " },\n",
      " {\n",
      "  \"entity\": \"https://omim.org/entry/603903-https://www.uniprot.org/uniprot/P00738\",\n",
      "  \"error_type\": \"INVALID_EDGE_PROPERTY_VALUE\",\n",
      "  \"message\": \"Edge property 'object' has a value 'https://www.uniprot.org/uniprot/P00738' which is not a proper CURIE\",\n",
      "  \"message_level\": \"ERROR\"\n",
      " }\n",
      "]\n"
     ]
    }
   ],
   "source": [
    "response = requests.post(compliance_url, json=input_data)\n",
    "print(json.dumps(response.json(), indent=1))"
   ]
  },
  {
   "cell_type": "markdown",
   "metadata": {},
   "source": [
    "Here we see there are 7 errors associated with the input object, going through them:\n",
    "\n",
    "Errors 1-4 (MISSING_NODE_PROPERTY and INVALID_CATEGORY) are related to a missing node in the graph for the Haptoglobin protein.  We can resolve this by creating and adding it to the node list:\n",
    "\n",
    "```\n",
    "{\n",
    "  \"id\": \"https://www.uniprot.org/uniprot/P00738\",\n",
    "  \"name\": \"Haptoglobin\",\n",
    "  \"category\": \"Protein\",\n",
    "}\n",
    "\n",
    "```"
   ]
  },
  {
   "cell_type": "markdown",
   "metadata": {},
   "source": [
    "The next error, MISSING_EDGE_PROPERTY, is because we're missing the property 'relation' on our edge:\n",
    "\n",
    "```\n",
    "{\n",
    "  \"id\": \"553903\",\n",
    "  \"source_id\": \"https://omim.org/entry/603903\",\n",
    "  \"target_id\": \"https://www.uniprot.org/uniprot/P00738\",\n",
    "  \"relation_label\": [\n",
    "      \"affects\"\n",
    "  ],\n",
    "  \"relation\": \"affects\",\n",
    "}\n",
    "\n",
    "```"
   ]
  },
  {
   "cell_type": "markdown",
   "metadata": {},
   "source": [
    "The final two errors, INVALID_EDGE_PROPERTY_VALUE, are because we are using an IRI for the id property instead of a curie.\n",
    "The get the curie mapping we can look at the biolink model jsonld context file here: https://github.com/biolink/biolink-model/blob/master/context.jsonld  \n",
    "\n",
    "Here we see the two mappings:  \n",
    "```\n",
    "  \"UniProtKB\": \"http://identifiers.org/uniprot/\",\n",
    "  \"OMIM\": \"http://purl.obolibrary.org/obo/OMIM_\",\n",
    "```\n",
    "\n",
    "Replacing the two IRIs with curies and putting it all together:  \n",
    "\n",
    "```\n",
    "{\n",
    "  \"edges\": [\n",
    "    {\n",
    "      \"id\": \"553903\",\n",
    "      \"source_id\": \"OMIM:603903\",\n",
    "      \"target_id\": \"UniProtKB:P00738\",\n",
    "      \"relation_label\": [\n",
    "        \"affects\"\n",
    "      ],\n",
    "      \"relation\": \"affects\",\n",
    "      \"additionalProp1\": {}\n",
    "    }\n",
    "  ],\n",
    "  \"nodes\": [\n",
    "    {\n",
    "      \"id\": \"OMIM:603903\",\n",
    "      \"name\": \"Haptoglobin\",\n",
    "      \"type\": \"Disease\",\n",
    "      \"category\": \"Disease\",\n",
    "      \"additionalProp1\": {}\n",
    "    },\n",
    "    {\n",
    "      \"id\": \"UniProtKB:P00738\",\n",
    "      \"name\": \"Haptoglobin\",\n",
    "      \"category\": \"Protein\",\n",
    "      \"additionalProp1\": {}\n",
    "    }\n",
    "  ],\n",
    "  \"additionalProp1\": {}\n",
    "}\n",
    "```"
   ]
  },
  {
   "cell_type": "code",
   "execution_count": 45,
   "metadata": {},
   "outputs": [
    {
     "name": "stdout",
     "output_type": "stream",
     "text": [
      "{\n",
      " \"message\": \"Successfully validated\"\n",
      "}\n"
     ]
    }
   ],
   "source": [
    "# Running the above object through the validator\n",
    "\n",
    "input_fh = open(os.path.abspath('') + '/resources/fixed.json', 'r')\n",
    "input_data = json.load(input_fh)\n",
    "response = requests.post(compliance_url, json=input_data)\n",
    "print(json.dumps(response.json(), indent=1))"
   ]
  }
 ],
 "metadata": {
  "kernelspec": {
   "display_name": "Python 3",
   "language": "python",
   "name": "python3"
  },
  "language_info": {
   "codemirror_mode": {
    "name": "ipython",
    "version": 3
   },
   "file_extension": ".py",
   "mimetype": "text/x-python",
   "name": "python",
   "nbconvert_exporter": "python",
   "pygments_lexer": "ipython3",
   "version": "3.7.2"
  }
 },
 "nbformat": 4,
 "nbformat_minor": 4
}
